{
 "cells": [
  {
   "cell_type": "code",
   "execution_count": 3,
   "metadata": {},
   "outputs": [
    {
     "name": "stdout",
     "output_type": "stream",
     "text": [
      "This is a stick figure!\n",
      " o\n",
      "|||\n",
      "/ \\\n",
      "\n",
      "His name is John. Now he is waving at you!\n",
      " o\n",
      "||/\n",
      "/ \\\n",
      "\n",
      "Wow, John is holding a really curvy slice of pizza!\n",
      " o ~\n",
      "||/\n",
      "/ \\\n",
      "\n",
      "Oh no! His arm fell off!! Off with the curvy slice of pizza too!!!\n",
      " o       o       o        o\n",
      "|| _~   ||      ||       ||\n",
      "/ \\     / \\\\~   / \\ _~   / \\ _ ~\n",
      "\n",
      "The end...\n"
     ]
    }
   ],
   "source": [
    "print(\"This is a stick figure!\")\n",
    "print(\" o\")\n",
    "print(\"|||\")\n",
    "print(\"/ \\\\\")\n",
    "print()\n",
    "\n",
    "print(\"His name is John. Now he is waving at you!\")\n",
    "print(\" o\")\n",
    "print(\"||/\")\n",
    "print(\"/ \\\\\")\n",
    "print()\n",
    "\n",
    "print(\"Wow, John is holding a really curvy slice of pizza!\")\n",
    "print(\" o ~\")\n",
    "print(\"||/\")\n",
    "print(\"/ \\\\\")\n",
    "print()\n",
    "\n",
    "print(\"Oh no! His arm fell off!! Off with the curvy slice of pizza too!!!\")\n",
    "print(\" o       o       o        o\")\n",
    "print(\"|| _~   ||      ||       ||\")\n",
    "print(\"/ \\\\     / \\\\\\~   / \\ _~   / \\\\ _ ~\")\n",
    "print()\n",
    "\n",
    "print(\"The end...\")"
   ]
  }
 ],
 "metadata": {
  "kernelspec": {
   "display_name": "Python 3",
   "language": "python",
   "name": "python3"
  },
  "language_info": {
   "codemirror_mode": {
    "name": "ipython",
    "version": 3
   },
   "file_extension": ".py",
   "mimetype": "text/x-python",
   "name": "python",
   "nbconvert_exporter": "python",
   "pygments_lexer": "ipython3",
   "version": "3.8.3"
  }
 },
 "nbformat": 4,
 "nbformat_minor": 4
}
